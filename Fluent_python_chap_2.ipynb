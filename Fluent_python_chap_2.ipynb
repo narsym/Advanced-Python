{
  "nbformat": 4,
  "nbformat_minor": 0,
  "metadata": {
    "colab": {
      "name": "Fluent python chap 2.ipynb",
      "provenance": [],
      "collapsed_sections": [],
      "authorship_tag": "ABX9TyNr/fMpuInCC147icWPcmAW",
      "include_colab_link": true
    },
    "kernelspec": {
      "name": "python3",
      "display_name": "Python 3"
    }
  },
  "cells": [
    {
      "cell_type": "markdown",
      "metadata": {
        "id": "view-in-github",
        "colab_type": "text"
      },
      "source": [
        "<a href=\"https://colab.research.google.com/github/narsym/Advanced-Python/blob/master/Fluent_python_chap_2.ipynb\" target=\"_parent\"><img src=\"https://colab.research.google.com/assets/colab-badge.svg\" alt=\"Open In Colab\"/></a>"
      ]
    },
    {
      "cell_type": "markdown",
      "metadata": {
        "id": "IqmVWw98LoHo",
        "colab_type": "text"
      },
      "source": [
        "#Data Structures"
      ]
    },
    {
      "cell_type": "markdown",
      "metadata": {
        "id": "_bS3HYa1MD2V",
        "colab_type": "text"
      },
      "source": [
        "List Comprehension"
      ]
    },
    {
      "cell_type": "code",
      "metadata": {
        "id": "YREuRX3OMHa2",
        "colab_type": "code",
        "colab": {}
      },
      "source": [
        "symbols = '$¢£¥€¤'\n",
        "codes = [ord(i) for i in symbols]\n",
        "codes"
      ],
      "execution_count": null,
      "outputs": []
    },
    {
      "cell_type": "markdown",
      "metadata": {
        "id": "INlmxeSxNLsO",
        "colab_type": "text"
      },
      "source": [
        "Variables assigned within theexpression are local, but variables in the surrounding scope can still be referenced. Evenbetter, the local variables do not mask the variables from the surrounding scope."
      ]
    },
    {
      "cell_type": "code",
      "metadata": {
        "id": "OCuNfUDhMQne",
        "colab_type": "code",
        "colab": {
          "base_uri": "https://localhost:8080/",
          "height": 35
        },
        "outputId": "514ecfc3-9006-4889-b164-366728a96e53"
      },
      "source": [
        "x = 'ABC' #list comprehension no longer leaks their variables\n",
        "dummy = [ord(x) for x in x]\n",
        "print(x, dummy)"
      ],
      "execution_count": null,
      "outputs": [
        {
          "output_type": "stream",
          "text": [
            "ABC [65, 66, 67]\n"
          ],
          "name": "stdout"
        }
      ]
    },
    {
      "cell_type": "markdown",
      "metadata": {
        "id": "pDJQHld2NCvW",
        "colab_type": "text"
      },
      "source": [
        "List comprehension is faster than map and filter combo"
      ]
    },
    {
      "cell_type": "code",
      "metadata": {
        "id": "5mPF8Ei1N6yP",
        "colab_type": "code",
        "colab": {
          "base_uri": "https://localhost:8080/",
          "height": 35
        },
        "outputId": "c284ccde-149d-4b2b-929d-abc755f71672"
      },
      "source": [
        "symbols = '$¢£¥€¤'\n",
        "beyond_ascii = [ord(s) for s in symbols if ord(s) > 127]\n",
        "beyond_ascii"
      ],
      "execution_count": null,
      "outputs": [
        {
          "output_type": "execute_result",
          "data": {
            "text/plain": [
              "[162, 163, 165, 8364, 164]"
            ]
          },
          "metadata": {
            "tags": []
          },
          "execution_count": 3
        }
      ]
    },
    {
      "cell_type": "code",
      "metadata": {
        "id": "iQWJzRKoOFqb",
        "colab_type": "code",
        "colab": {
          "base_uri": "https://localhost:8080/",
          "height": 35
        },
        "outputId": "3dff32a5-0784-4905-d00d-99598f81061c"
      },
      "source": [
        "beyond_ascii = list(filter(lambda c: c > 127, map(ord, symbols))) # slower\n",
        "beyond_ascii"
      ],
      "execution_count": null,
      "outputs": [
        {
          "output_type": "execute_result",
          "data": {
            "text/plain": [
              "[162, 163, 165, 8364, 164]"
            ]
          },
          "metadata": {
            "tags": []
          },
          "execution_count": 4
        }
      ]
    },
    {
      "cell_type": "markdown",
      "metadata": {
        "id": "du9Bg9wTOTkg",
        "colab_type": "text"
      },
      "source": [
        "cartesian product using list comprehension"
      ]
    },
    {
      "cell_type": "code",
      "metadata": {
        "id": "MI_iTcKKOsoZ",
        "colab_type": "code",
        "colab": {
          "base_uri": "https://localhost:8080/",
          "height": 128
        },
        "outputId": "11d12a36-522d-4dbb-b941-f97fa2920a1f"
      },
      "source": [
        "colors = ['black', 'sizes']\n",
        "sizes = ['S', 'M', 'L']\n",
        "tshirts = [(color, size) for color in colors for size in sizes]\n",
        "tshirts"
      ],
      "execution_count": null,
      "outputs": [
        {
          "output_type": "execute_result",
          "data": {
            "text/plain": [
              "[('black', 'S'),\n",
              " ('black', 'M'),\n",
              " ('black', 'L'),\n",
              " ('sizes', 'S'),\n",
              " ('sizes', 'M'),\n",
              " ('sizes', 'L')]"
            ]
          },
          "metadata": {
            "tags": []
          },
          "execution_count": 5
        }
      ]
    },
    {
      "cell_type": "markdown",
      "metadata": {
        "id": "N-PvG9rjO6ab",
        "colab_type": "text"
      },
      "source": [
        "Generator expressions\n",
        "\n",
        "1.   saves a lot of memory to build other sequence types\n",
        "2.   enclosed in parenthesis rather than braces\n",
        "\n"
      ]
    },
    {
      "cell_type": "code",
      "metadata": {
        "id": "e85qlswIPXkQ",
        "colab_type": "code",
        "colab": {
          "base_uri": "https://localhost:8080/",
          "height": 35
        },
        "outputId": "cf498e12-32f3-4bb8-811b-8ceaa32afff7"
      },
      "source": [
        "symbols = '$¢£¥€¤'\n",
        "tuple(ord(s) for s in symbols)"
      ],
      "execution_count": null,
      "outputs": [
        {
          "output_type": "execute_result",
          "data": {
            "text/plain": [
              "(36, 162, 163, 165, 8364, 164)"
            ]
          },
          "metadata": {
            "tags": []
          },
          "execution_count": 6
        }
      ]
    },
    {
      "cell_type": "code",
      "metadata": {
        "id": "QZ15q4DyQG68",
        "colab_type": "code",
        "colab": {}
      },
      "source": [
        "import array\n",
        "a = array.array('I', (ord(s) for s in symbols))"
      ],
      "execution_count": null,
      "outputs": []
    },
    {
      "cell_type": "markdown",
      "metadata": {
        "id": "8AtDNe5LQO4Q",
        "colab_type": "text"
      },
      "source": [
        "*list comprehension builds a list with items to feed to for loop, but generator expression produces one item at a time to feed for loop so saves memory and time*"
      ]
    },
    {
      "cell_type": "code",
      "metadata": {
        "id": "7N3Gi2soQTFm",
        "colab_type": "code",
        "colab": {
          "base_uri": "https://localhost:8080/",
          "height": 128
        },
        "outputId": "425ab30e-2dcd-49d8-dbe8-a5824cdc4fb3"
      },
      "source": [
        "for tshirt in ('%s %s' % (color, size)#format\n",
        "               #Thegenerator expression yields items one by one;a list with all six T-shirt variations is never produced in this example.\n",
        "               for color in colors for size in sizes):\n",
        "  print(tshirt)"
      ],
      "execution_count": null,
      "outputs": [
        {
          "output_type": "stream",
          "text": [
            "black S\n",
            "black M\n",
            "black L\n",
            "sizes S\n",
            "sizes M\n",
            "sizes L\n"
          ],
          "name": "stdout"
        }
      ]
    },
    {
      "cell_type": "markdown",
      "metadata": {
        "id": "cm-3b70sR1YI",
        "colab_type": "text"
      },
      "source": [
        "Tuples are not just lists"
      ]
    },
    {
      "cell_type": "code",
      "metadata": {
        "id": "s6F7j-ToSXbX",
        "colab_type": "code",
        "colab": {
          "base_uri": "https://localhost:8080/",
          "height": 72
        },
        "outputId": "7d2735c1-e9e4-4588-b6a3-915373f3d7ce"
      },
      "source": [
        "#tuples as records\n",
        "lax_coordinates = (33, 97)\n",
        "city, year, pop, chg, area = ('Tokyo', 2003, 97, 0.66, 8017)\n",
        "traveler_ids = [('USA', 9987), ('BRA', 9982), ('ESP', 3325)]\n",
        "for passport in sorted(traveler_ids):\n",
        "  print('%s/%s' % passport)"
      ],
      "execution_count": null,
      "outputs": [
        {
          "output_type": "stream",
          "text": [
            "BRA/9982\n",
            "ESP/3325\n",
            "USA/9987\n"
          ],
          "name": "stdout"
        }
      ]
    },
    {
      "cell_type": "code",
      "metadata": {
        "id": "S3gCFJfDT_7e",
        "colab_type": "code",
        "colab": {
          "base_uri": "https://localhost:8080/",
          "height": 72
        },
        "outputId": "91f7673f-cd71-489c-e3af-7daa72a7e822"
      },
      "source": [
        "for country, _ in traveler_ids:\n",
        "  print(country)"
      ],
      "execution_count": null,
      "outputs": [
        {
          "output_type": "stream",
          "text": [
            "USA\n",
            "BRA\n",
            "ESP\n"
          ],
          "name": "stdout"
        }
      ]
    },
    {
      "cell_type": "markdown",
      "metadata": {
        "id": "70fqHaOUUFTW",
        "colab_type": "text"
      },
      "source": [
        "Tuple unpacking"
      ]
    },
    {
      "cell_type": "code",
      "metadata": {
        "id": "569y_lm0UPRf",
        "colab_type": "code",
        "colab": {
          "base_uri": "https://localhost:8080/",
          "height": 35
        },
        "outputId": "c11ca68c-306d-4eab-b88a-07e80c7a2bde"
      },
      "source": [
        "lax_coordinates = (33, 97)\n",
        "latitude, longitude = lax_coordinates #unpacking\n",
        "print(latitude, longitude)"
      ],
      "execution_count": null,
      "outputs": [
        {
          "output_type": "stream",
          "text": [
            "33 97\n"
          ],
          "name": "stdout"
        }
      ]
    },
    {
      "cell_type": "code",
      "metadata": {
        "id": "u3YZzZsLU8Bo",
        "colab_type": "code",
        "colab": {
          "base_uri": "https://localhost:8080/",
          "height": 35
        },
        "outputId": "9b33d339-5e1c-4e97-d2ba-7d3f4f69112a"
      },
      "source": [
        "#swapping\n",
        "latitude, longitude = longitude, latitude\n",
        "print(latitude, longitude)"
      ],
      "execution_count": null,
      "outputs": [
        {
          "output_type": "stream",
          "text": [
            "97 33\n"
          ],
          "name": "stdout"
        }
      ]
    },
    {
      "cell_type": "code",
      "metadata": {
        "id": "l-SQS2faVIaC",
        "colab_type": "code",
        "colab": {
          "base_uri": "https://localhost:8080/",
          "height": 72
        },
        "outputId": "a4f85a8c-ecdb-4bbd-f0dc-add4eadade39"
      },
      "source": [
        "#prefixing argument with a start\n",
        "print(divmod(20, 8))\n",
        "t = (20, 8)\n",
        "print(divmod(*t))\n",
        "q, r = divmod(*t)\n",
        "print(q, r)"
      ],
      "execution_count": null,
      "outputs": [
        {
          "output_type": "stream",
          "text": [
            "(2, 4)\n",
            "(2, 4)\n",
            "2 4\n"
          ],
          "name": "stdout"
        }
      ]
    },
    {
      "cell_type": "code",
      "metadata": {
        "id": "sjpRY0l-V8QD",
        "colab_type": "code",
        "colab": {
          "base_uri": "https://localhost:8080/",
          "height": 35
        },
        "outputId": "4e3f9af0-0d8e-4f15-9933-62a9e2088a46"
      },
      "source": [
        "import os\n",
        "_, filename = os.path.split('/home/go/idrsa.pub') #splits last part\n",
        "_, filename"
      ],
      "execution_count": null,
      "outputs": [
        {
          "output_type": "execute_result",
          "data": {
            "text/plain": [
              "('/home/go', 'idrsa.pub')"
            ]
          },
          "metadata": {
            "tags": []
          },
          "execution_count": 23
        }
      ]
    },
    {
      "cell_type": "markdown",
      "metadata": {
        "id": "58dNh-EpWHQg",
        "colab_type": "text"
      },
      "source": [
        "Using * to grab excess items"
      ]
    },
    {
      "cell_type": "code",
      "metadata": {
        "id": "lJloYzROWdup",
        "colab_type": "code",
        "colab": {
          "base_uri": "https://localhost:8080/",
          "height": 54
        },
        "outputId": "7bc8039d-d032-4f8c-999b-8e2726f69024"
      },
      "source": [
        "a, b, *c = range(5)\n",
        "print(a, b, c)\n",
        "*a, b, c = range(2) #can only applied to a single variable, but at any position\n",
        "print(a, b, c)"
      ],
      "execution_count": null,
      "outputs": [
        {
          "output_type": "stream",
          "text": [
            "0 1 [2, 3, 4]\n",
            "[] 0 1\n"
          ],
          "name": "stdout"
        }
      ]
    },
    {
      "cell_type": "markdown",
      "metadata": {
        "id": "wi9bj-hfWg2r",
        "colab_type": "text"
      },
      "source": [
        "Nested tuple unpacking"
      ]
    },
    {
      "cell_type": "code",
      "metadata": {
        "id": "jiNGJjEHZpLG",
        "colab_type": "code",
        "colab": {
          "base_uri": "https://localhost:8080/",
          "height": 91
        },
        "outputId": "1343fe9b-0951-4b14-9a85-0eb25b39273b"
      },
      "source": [
        "metro_areas=[('Tokyo','JP',36.933,(35.689722,139.691667)),\n",
        "             ('Delhi NCR','IN',21.935,(28.613889,77.208889)),\n",
        "             ('Mexico City','MX',20.142,(19.433333,-99.133333)),\n",
        "             ('New York-Newark','US',20.104,(40.808611,-74.020386)),('Sao Paulo','BR',19.649,(-23.547778,-46.635833))]\n",
        "\n",
        "print('{:15} | {:^9} | {:^9}'.format('','lat.','long.'))\n",
        "fmt='{:15} | {:9.4f} | {:9.4f}'\n",
        "for name, cc, pop, (lat, lon) in metro_areas:\n",
        "  if lon <= 0:\n",
        "    print(fmt.format(name, lat, lon))"
      ],
      "execution_count": null,
      "outputs": [
        {
          "output_type": "stream",
          "text": [
            "                |   lat.    |   long.  \n",
            "Mexico City     |   19.4333 |  -99.1333\n",
            "New York-Newark |   40.8086 |  -74.0204\n",
            "Sao Paulo       |  -23.5478 |  -46.6358\n"
          ],
          "name": "stdout"
        }
      ]
    },
    {
      "cell_type": "markdown",
      "metadata": {
        "id": "7i-K_U8taCPc",
        "colab_type": "text"
      },
      "source": [
        "Named Tuple"
      ]
    },
    {
      "cell_type": "code",
      "metadata": {
        "id": "iOb1LfCocW6p",
        "colab_type": "code",
        "colab": {
          "base_uri": "https://localhost:8080/",
          "height": 35
        },
        "outputId": "5a9390b7-c853-4dca-8034-10617b02f5eb"
      },
      "source": [
        "from collections import namedtuple\n",
        "City = namedtuple('City', 'name country population coordinates')\n",
        "tokyo = City('Tokyo', 'JP', 36.933, (35, 18))\n",
        "print(tokyo, tokyo.population, tokyo.coordinates, tokyo[1]) #access the elements by field names or position"
      ],
      "execution_count": null,
      "outputs": [
        {
          "output_type": "stream",
          "text": [
            "City(name='Tokyo', country='JP', population=36.933, coordinates=(35, 18)) 36.933 (35, 18) JP\n"
          ],
          "name": "stdout"
        }
      ]
    },
    {
      "cell_type": "markdown",
      "metadata": {
        "id": "9ZbljsxXdMVx",
        "colab_type": "text"
      },
      "source": [
        "three methods\n",
        "\n",
        "1.   _fields\n",
        "2.   _make(iterable)\n",
        "3.   _asdict()\n",
        "\n"
      ]
    },
    {
      "cell_type": "code",
      "metadata": {
        "id": "SwmzyFtaeBG6",
        "colab_type": "code",
        "colab": {
          "base_uri": "https://localhost:8080/",
          "height": 35
        },
        "outputId": "c3d86618-04a2-46cb-dd7f-cc2226fab52c"
      },
      "source": [
        "City._fields"
      ],
      "execution_count": null,
      "outputs": [
        {
          "output_type": "execute_result",
          "data": {
            "text/plain": [
              "('name', 'country', 'population', 'coordinates')"
            ]
          },
          "metadata": {
            "tags": []
          },
          "execution_count": 32
        }
      ]
    },
    {
      "cell_type": "code",
      "metadata": {
        "id": "2YLSxUNbeEKj",
        "colab_type": "code",
        "colab": {
          "base_uri": "https://localhost:8080/",
          "height": 91
        },
        "outputId": "3a389906-ebaf-46d7-ccca-735d96ec5851"
      },
      "source": [
        "Latlong = namedtuple('Latlong', 'lat long')\n",
        "delhi_data = ('Delhi NCR', 'IN', 21.935, Latlong(28, 77))\n",
        "delhi = City._make(delhi_data)\n",
        "delhi._asdict()"
      ],
      "execution_count": null,
      "outputs": [
        {
          "output_type": "execute_result",
          "data": {
            "text/plain": [
              "OrderedDict([('name', 'Delhi NCR'),\n",
              "             ('country', 'IN'),\n",
              "             ('population', 21.935),\n",
              "             ('coordinates', Latlong(lat=28, long=77))])"
            ]
          },
          "metadata": {
            "tags": []
          },
          "execution_count": 33
        }
      ]
    },
    {
      "cell_type": "code",
      "metadata": {
        "id": "NdlJfCl1eea5",
        "colab_type": "code",
        "colab": {
          "base_uri": "https://localhost:8080/",
          "height": 91
        },
        "outputId": "d04c7ba1-e46d-4808-c9b4-c819634ca578"
      },
      "source": [
        "for key, value in delhi._asdict().items():\n",
        "  print(key + ':', value)"
      ],
      "execution_count": null,
      "outputs": [
        {
          "output_type": "stream",
          "text": [
            "name: Delhi NCR\n",
            "country: IN\n",
            "population: 21.935\n",
            "coordinates: Latlong(lat=28, long=77)\n"
          ],
          "name": "stdout"
        }
      ]
    },
    {
      "cell_type": "markdown",
      "metadata": {
        "id": "qqbpTzL9e8a3",
        "colab_type": "text"
      },
      "source": [
        "slicing"
      ]
    },
    {
      "cell_type": "code",
      "metadata": {
        "id": "eZZvK6UBG_Fz",
        "colab_type": "code",
        "colab": {
          "base_uri": "https://localhost:8080/",
          "height": 35
        },
        "outputId": "1681f3f9-1996-40cf-ee80-413a2ed9d349"
      },
      "source": [
        "s = 'bicycle'\n",
        "print(s[::3], s[::-1]) #s[a:b:c] , a = start, b = stop, c = stride"
      ],
      "execution_count": null,
      "outputs": [
        {
          "output_type": "stream",
          "text": [
            "bye elcycib\n"
          ],
          "name": "stdout"
        }
      ]
    },
    {
      "cell_type": "code",
      "metadata": {
        "id": "fLrcCyGSHETi",
        "colab_type": "code",
        "colab": {
          "base_uri": "https://localhost:8080/",
          "height": 109
        },
        "outputId": "4128169b-dff6-4fce-9a74-ec58334fa42c"
      },
      "source": [
        "invoice=\"\"\"\n",
        "... 0.....6.................................40........52...55........... \n",
        "1909  Pimoroni PiBrella                     $17.50    3    $52.50... \n",
        "1489  6mm Tactile Switch x20                 $4.95    2     $9.90... \n",
        "1510  Panavise Jr. - PV-201                 $28.00    1    $28.00... \n",
        "1601  PiTFT Mini Kit 320x240                $34.95    1    $34.95... \n",
        "\"\"\"\n",
        "\n",
        "\n",
        "SKU = slice(0, 6)\n",
        "DESCRIPTION = slice(6, 40)\n",
        "UNIT_PRICE = slice(40, 52)\n",
        "QUANTITY = slice(52, 55)\n",
        "ITEM_TOTAL = slice(55, None)\n",
        "line_items = invoice.split('\\n')[2:]\n",
        "\n",
        "for item in line_items:\n",
        "  print(item[UNIT_PRICE], item[DESCRIPTION])"
      ],
      "execution_count": null,
      "outputs": [
        {
          "output_type": "stream",
          "text": [
            "    $17.50   Pimoroni PiBrella                 \n",
            "     $4.95   6mm Tactile Switch x20            \n",
            "    $28.00   Panavise Jr. - PV-201             \n",
            "    $34.95   PiTFT Mini Kit 320x240            \n",
            " \n"
          ],
          "name": "stdout"
        }
      ]
    },
    {
      "cell_type": "markdown",
      "metadata": {
        "id": "C8Xi7VBiI4l0",
        "colab_type": "text"
      },
      "source": [
        "assigning to slices"
      ]
    },
    {
      "cell_type": "code",
      "metadata": {
        "id": "80KuNeChJVFo",
        "colab_type": "code",
        "colab": {
          "base_uri": "https://localhost:8080/",
          "height": 109
        },
        "outputId": "1e8186b2-bc9b-4a24-b5e0-72bbaa572849"
      },
      "source": [
        "l = list(range(10))\n",
        "print(l)\n",
        "l[2:5] = [20, 30]\n",
        "print(l)\n",
        "del l[5:7]\n",
        "print(l)\n",
        "l[3::2] = [11, 22]\n",
        "print(l)\n",
        "l[2:5] = [100]\n",
        "print(l)"
      ],
      "execution_count": null,
      "outputs": [
        {
          "output_type": "stream",
          "text": [
            "[0, 1, 2, 3, 4, 5, 6, 7, 8, 9]\n",
            "[0, 1, 20, 30, 5, 6, 7, 8, 9]\n",
            "[0, 1, 20, 30, 5, 8, 9]\n",
            "[0, 1, 20, 11, 5, 22, 9]\n",
            "[0, 1, 100, 22, 9]\n"
          ],
          "name": "stdout"
        }
      ]
    },
    {
      "cell_type": "markdown",
      "metadata": {
        "id": "2Jz_TXy0LwEL",
        "colab_type": "text"
      },
      "source": [
        "using + and * with sequences"
      ]
    },
    {
      "cell_type": "code",
      "metadata": {
        "id": "A6bTsYN4MAbK",
        "colab_type": "code",
        "colab": {
          "base_uri": "https://localhost:8080/",
          "height": 35
        },
        "outputId": "c5ef1bc3-f3f8-4917-b746-b2ccbd543ce2"
      },
      "source": [
        "l = [1, 2, 3]\n",
        "print(l * 5, l + l)"
      ],
      "execution_count": null,
      "outputs": [
        {
          "output_type": "stream",
          "text": [
            "[1, 2, 3, 1, 2, 3, 1, 2, 3, 1, 2, 3, 1, 2, 3] [1, 2, 3, 1, 2, 3]\n"
          ],
          "name": "stdout"
        }
      ]
    },
    {
      "cell_type": "markdown",
      "metadata": {
        "id": "P5oa2Qg6MlWA",
        "colab_type": "text"
      },
      "source": [
        "Building lists of lists"
      ]
    },
    {
      "cell_type": "code",
      "metadata": {
        "id": "3k3sTKXFMpBT",
        "colab_type": "code",
        "colab": {
          "base_uri": "https://localhost:8080/",
          "height": 54
        },
        "outputId": "4d4bd51e-9962-4630-a2f9-93fd618a0866"
      },
      "source": [
        "board = [['_'] * 3 for i in range(3)] #correct way\n",
        "print(board)\n",
        "board[1][2] = 'X'\n",
        "print(board)"
      ],
      "execution_count": null,
      "outputs": [
        {
          "output_type": "stream",
          "text": [
            "[['_', '_', '_'], ['_', '_', '_'], ['_', '_', '_']]\n",
            "[['_', '_', '_'], ['_', '_', 'X'], ['_', '_', '_']]\n"
          ],
          "name": "stdout"
        }
      ]
    },
    {
      "cell_type": "code",
      "metadata": {
        "id": "ZT8mKxapM4ss",
        "colab_type": "code",
        "colab": {
          "base_uri": "https://localhost:8080/",
          "height": 54
        },
        "outputId": "018a89f2-f5c7-4dd4-abd2-088e857c7147"
      },
      "source": [
        "weird_board = [['_'] * 3] * 3 #incorrect way\n",
        "print(weird_board)\n",
        "weird_board[1][2] = 'X'\n",
        "print(weird_board)"
      ],
      "execution_count": null,
      "outputs": [
        {
          "output_type": "stream",
          "text": [
            "[['_', '_', '_'], ['_', '_', '_'], ['_', '_', '_']]\n",
            "[['_', '_', 'X'], ['_', '_', 'X'], ['_', '_', 'X']]\n"
          ],
          "name": "stdout"
        }
      ]
    },
    {
      "cell_type": "markdown",
      "metadata": {
        "id": "ru2FK7IONJZJ",
        "colab_type": "text"
      },
      "source": [
        "Assigning augmented operators"
      ]
    },
    {
      "cell_type": "code",
      "metadata": {
        "id": "oTXrluDpOcOd",
        "colab_type": "code",
        "colab": {
          "base_uri": "https://localhost:8080/",
          "height": 91
        },
        "outputId": "8bc2fe02-628f-471b-f385-ba866568da5b"
      },
      "source": [
        "#For mutable sequence types __iadd__ and __imul__ etc are implemented, so they behave like a.extend()\n",
        "\n",
        "l = [1, 2, 3]\n",
        "print(l, id(l))\n",
        "l *= 2\n",
        "print(l, id(l)) #same object as above \n",
        "\n",
        "#For immutable sequence types __iadd__ and __imul etc are not implemented, so they behave like a = a + b, str is exception behaves like extend\n",
        "\n",
        "t = (1, 2, 3)\n",
        "print(t, id(t))\n",
        "t *= 2\n",
        "print(t, id(t)) #new object"
      ],
      "execution_count": null,
      "outputs": [
        {
          "output_type": "stream",
          "text": [
            "[1, 2, 3] 139957158082888\n",
            "[1, 2, 3, 1, 2, 3] 139957158082888\n",
            "(1, 2, 3) 139957158615224\n",
            "(1, 2, 3, 1, 2, 3) 139957159222152\n"
          ],
          "name": "stdout"
        }
      ]
    },
    {
      "cell_type": "code",
      "metadata": {
        "id": "kVysH284RPCN",
        "colab_type": "code",
        "colab": {
          "base_uri": "https://localhost:8080/",
          "height": 228
        },
        "outputId": "f4d9d481-1237-4c66-d17f-46f473626019"
      },
      "source": [
        "t = (1, 2, [30, 40])\n",
        "print(id(t))\n",
        "t[2] += [50, 60]"
      ],
      "execution_count": null,
      "outputs": [
        {
          "output_type": "stream",
          "text": [
            "139957158616952\n"
          ],
          "name": "stdout"
        },
        {
          "output_type": "error",
          "ename": "TypeError",
          "evalue": "ignored",
          "traceback": [
            "\u001b[0;31m---------------------------------------------------------------------------\u001b[0m",
            "\u001b[0;31mTypeError\u001b[0m                                 Traceback (most recent call last)",
            "\u001b[0;32m<ipython-input-12-b605378090f5>\u001b[0m in \u001b[0;36m<module>\u001b[0;34m()\u001b[0m\n\u001b[1;32m      1\u001b[0m \u001b[0mt\u001b[0m \u001b[0;34m=\u001b[0m \u001b[0;34m(\u001b[0m\u001b[0;36m1\u001b[0m\u001b[0;34m,\u001b[0m \u001b[0;36m2\u001b[0m\u001b[0;34m,\u001b[0m \u001b[0;34m[\u001b[0m\u001b[0;36m30\u001b[0m\u001b[0;34m,\u001b[0m \u001b[0;36m40\u001b[0m\u001b[0;34m]\u001b[0m\u001b[0;34m)\u001b[0m\u001b[0;34m\u001b[0m\u001b[0;34m\u001b[0m\u001b[0m\n\u001b[1;32m      2\u001b[0m \u001b[0mprint\u001b[0m\u001b[0;34m(\u001b[0m\u001b[0mid\u001b[0m\u001b[0;34m(\u001b[0m\u001b[0mt\u001b[0m\u001b[0;34m)\u001b[0m\u001b[0;34m)\u001b[0m\u001b[0;34m\u001b[0m\u001b[0;34m\u001b[0m\u001b[0m\n\u001b[0;32m----> 3\u001b[0;31m \u001b[0mt\u001b[0m\u001b[0;34m[\u001b[0m\u001b[0;36m2\u001b[0m\u001b[0;34m]\u001b[0m \u001b[0;34m+=\u001b[0m \u001b[0;34m[\u001b[0m\u001b[0;36m50\u001b[0m\u001b[0;34m,\u001b[0m \u001b[0;36m60\u001b[0m\u001b[0;34m]\u001b[0m\u001b[0;34m\u001b[0m\u001b[0;34m\u001b[0m\u001b[0m\n\u001b[0m",
            "\u001b[0;31mTypeError\u001b[0m: 'tuple' object does not support item assignment"
          ]
        }
      ]
    },
    {
      "cell_type": "code",
      "metadata": {
        "id": "jFVBclcRRWk4",
        "colab_type": "code",
        "colab": {
          "base_uri": "https://localhost:8080/",
          "height": 35
        },
        "outputId": "064e4fcc-5d3a-4fe3-da5e-4bc7c9fa8cbb"
      },
      "source": [
        "print(t, id(t)) #same object, element inside tuple changed after throwing an error"
      ],
      "execution_count": null,
      "outputs": [
        {
          "output_type": "stream",
          "text": [
            "(1, 2, [30, 40, 50, 60]) 139957158616952\n"
          ],
          "name": "stdout"
        }
      ]
    },
    {
      "cell_type": "markdown",
      "metadata": {
        "id": "BbJ30BFWPG3S",
        "colab_type": "text"
      },
      "source": [
        "Remember\n",
        "\n",
        "\n",
        "1.   Putting mutable items in tuples is not a good idea.\n",
        "2.   Augmented  assignment  is  not  an  atomic  operation—we  just  saw  it  throwing  anexception after doing part of its job.\n",
        "\n"
      ]
    },
    {
      "cell_type": "markdown",
      "metadata": {
        "id": "BuV7aRfeROOX",
        "colab_type": "text"
      },
      "source": [
        "list.sort and sorted"
      ]
    },
    {
      "cell_type": "code",
      "metadata": {
        "id": "7CzW9giNpeTr",
        "colab_type": "code",
        "colab": {
          "base_uri": "https://localhost:8080/",
          "height": 146
        },
        "outputId": "7b5bdb2e-0338-47c8-d0c4-b9c67681eb91"
      },
      "source": [
        "fruits = ['grape', 'raspberry', 'apple', 'banana']\n",
        "print(sorted(fruits))\n",
        "print(fruits)\n",
        "print(sorted(fruits, reverse = True))\n",
        "print(sorted(fruits, key = len))\n",
        "print(fruits)\n",
        "print(fruits.sort())\n",
        "print(fruits)"
      ],
      "execution_count": null,
      "outputs": [
        {
          "output_type": "stream",
          "text": [
            "['apple', 'banana', 'grape', 'raspberry']\n",
            "['grape', 'raspberry', 'apple', 'banana']\n",
            "['raspberry', 'grape', 'banana', 'apple']\n",
            "['grape', 'apple', 'banana', 'raspberry']\n",
            "['grape', 'raspberry', 'apple', 'banana']\n",
            "None\n",
            "['apple', 'banana', 'grape', 'raspberry']\n"
          ],
          "name": "stdout"
        }
      ]
    },
    {
      "cell_type": "markdown",
      "metadata": {
        "id": "BrsgXyvlp2gl",
        "colab_type": "text"
      },
      "source": [
        "Managing ordered sequences with bisect"
      ]
    },
    {
      "cell_type": "code",
      "metadata": {
        "id": "NINIRivjqH4s",
        "colab_type": "code",
        "colab": {
          "base_uri": "https://localhost:8080/",
          "height": 257
        },
        "outputId": "c11b35a1-1111-4c2c-f4d7-04465365061e"
      },
      "source": [
        "import bisect\n",
        "import sys\n",
        "\n",
        "HAYSTACK=[1,4,5,6,8,12,15,20,21,23,23,26,29,30]\n",
        "NEEDLES=[0,1,2,5,8,10,22,23,29,30,31]\n",
        "ROW_FMT='{0:2d} @ {1:2d}    {2}{0:<2d}'\n",
        "\n",
        "def demo(bisect_fn):\n",
        "  for needle in reversed(NEEDLES):\n",
        "    position = bisect_fn(HAYSTACK, needle)\n",
        "    offset = position * '  |'\n",
        "    print(ROW_FMT.format(needle, position, offset))\n",
        "\n",
        "bisect_fn = bisect.bisect_left\n",
        "\n",
        "print('DEMO:',bisect_fn.__name__)\n",
        "print('haystack ->',' '.join('%2d' % n for n in HAYSTACK))\n",
        "demo(bisect_fn)"
      ],
      "execution_count": null,
      "outputs": [
        {
          "output_type": "stream",
          "text": [
            "DEMO: bisect_left\n",
            "haystack ->  1  4  5  6  8 12 15 20 21 23 23 26 29 30\n",
            "31 @ 14      |  |  |  |  |  |  |  |  |  |  |  |  |  |31\n",
            "30 @ 13      |  |  |  |  |  |  |  |  |  |  |  |  |30\n",
            "29 @ 12      |  |  |  |  |  |  |  |  |  |  |  |29\n",
            "23 @  9      |  |  |  |  |  |  |  |  |23\n",
            "22 @  9      |  |  |  |  |  |  |  |  |22\n",
            "10 @  5      |  |  |  |  |10\n",
            " 8 @  4      |  |  |  |8 \n",
            " 5 @  2      |  |5 \n",
            " 2 @  1      |2 \n",
            " 1 @  0    1 \n",
            " 0 @  0    0 \n"
          ],
          "name": "stdout"
        }
      ]
    },
    {
      "cell_type": "code",
      "metadata": {
        "id": "5rnOxUX6trBQ",
        "colab_type": "code",
        "colab": {
          "base_uri": "https://localhost:8080/",
          "height": 35
        },
        "outputId": "969c6a13-fb7c-4974-b0f4-e41e30adc407"
      },
      "source": [
        "def grade(score, breakpoints = [60, 70, 80, 90], grades = 'FDCBA'):\n",
        "  i = bisect.bisect(breakpoints, score)\n",
        "  return grades[i]\n",
        "\n",
        "[grade(score) for score in [33, 99, 77, 70, 89, 90, 100]]"
      ],
      "execution_count": null,
      "outputs": [
        {
          "output_type": "execute_result",
          "data": {
            "text/plain": [
              "['F', 'A', 'C', 'C', 'B', 'A', 'A']"
            ]
          },
          "metadata": {
            "tags": []
          },
          "execution_count": 11
        }
      ]
    },
    {
      "cell_type": "markdown",
      "metadata": {
        "id": "I8vBG-XLukzz",
        "colab_type": "text"
      },
      "source": [
        "Inserting with bisect.insort"
      ]
    },
    {
      "cell_type": "code",
      "metadata": {
        "id": "_yCbzhZ7vLUJ",
        "colab_type": "code",
        "colab": {
          "base_uri": "https://localhost:8080/",
          "height": 146
        },
        "outputId": "87498e2f-a508-4e42-bfd7-1dde5a97dcb1"
      },
      "source": [
        "import random\n",
        "SIZE = 7\n",
        "random.seed(178)\n",
        "my_list = []\n",
        "for i in range(SIZE):\n",
        "  new_item = random.randrange(SIZE * 2)\n",
        "  bisect.insort(my_list, new_item)\n",
        "  print('%2d ->' % new_item, my_list)"
      ],
      "execution_count": null,
      "outputs": [
        {
          "output_type": "stream",
          "text": [
            " 1 -> [1]\n",
            " 8 -> [1, 8]\n",
            " 7 -> [1, 7, 8]\n",
            "10 -> [1, 7, 8, 10]\n",
            " 3 -> [1, 3, 7, 8, 10]\n",
            "12 -> [1, 3, 7, 8, 10, 12]\n",
            " 5 -> [1, 3, 5, 7, 8, 10, 12]\n"
          ],
          "name": "stdout"
        }
      ]
    },
    {
      "cell_type": "markdown",
      "metadata": {
        "id": "swRzxVoxvtYy",
        "colab_type": "text"
      },
      "source": [
        "When list is not an answer"
      ]
    },
    {
      "cell_type": "markdown",
      "metadata": {
        "id": "-qJ-NvYk5BE9",
        "colab_type": "text"
      },
      "source": [
        "Array"
      ]
    },
    {
      "cell_type": "code",
      "metadata": {
        "id": "eNn4Qrrg5Rii",
        "colab_type": "code",
        "colab": {
          "base_uri": "https://localhost:8080/",
          "height": 35
        },
        "outputId": "ba425d74-d9df-4bad-ff2c-84194cee5086"
      },
      "source": [
        "from array import array\n",
        "from random import random\n",
        "\n",
        "floats = array('d', (random() for i in range(10 ** 7)))\n",
        "print(floats[-1])"
      ],
      "execution_count": 15,
      "outputs": [
        {
          "output_type": "stream",
          "text": [
            "0.4464896172235179\n"
          ],
          "name": "stdout"
        }
      ]
    },
    {
      "cell_type": "code",
      "metadata": {
        "id": "Guns5ItT5ngj",
        "colab_type": "code",
        "colab": {}
      },
      "source": [
        "fp = open('floats.bin', 'wb')\n",
        "floats.tofile(fp)\n",
        "fp.close()"
      ],
      "execution_count": 16,
      "outputs": []
    },
    {
      "cell_type": "code",
      "metadata": {
        "id": "sriZH5Q757MF",
        "colab_type": "code",
        "colab": {
          "base_uri": "https://localhost:8080/",
          "height": 35
        },
        "outputId": "c968e0a6-7088-4fd0-e16f-783d3ccc90cd"
      },
      "source": [
        "floats2 = array('d')\n",
        "fp = open('floats.bin', 'rb')\n",
        "floats2.fromfile(fp, 10 ** 7)\n",
        "fp.close()\n",
        "floats2[-1]\n",
        "floats == floats2"
      ],
      "execution_count": 19,
      "outputs": [
        {
          "output_type": "execute_result",
          "data": {
            "text/plain": [
              "True"
            ]
          },
          "metadata": {
            "tags": []
          },
          "execution_count": 19
        }
      ]
    },
    {
      "cell_type": "markdown",
      "metadata": {
        "id": "bdEgF1sB6Ohk",
        "colab_type": "text"
      },
      "source": [
        "For sorting arrays"
      ]
    },
    {
      "cell_type": "code",
      "metadata": {
        "id": "YtFXVZpO7fY9",
        "colab_type": "code",
        "colab": {
          "base_uri": "https://localhost:8080/",
          "height": 35
        },
        "outputId": "bd678480-dde0-414d-d80e-e2c1c82c4ee2"
      },
      "source": [
        "a = array('d', [9, 8, 7, 6, 5, 4, 3, 2, 1])\n",
        "a = array(a.typecode, sorted(a))\n",
        "print(a)"
      ],
      "execution_count": 28,
      "outputs": [
        {
          "output_type": "stream",
          "text": [
            "array('d', [1.0, 2.0, 3.0, 4.0, 5.0, 6.0, 7.0, 8.0, 9.0])\n"
          ],
          "name": "stdout"
        }
      ]
    },
    {
      "cell_type": "markdown",
      "metadata": {
        "id": "s2USFtlU7kg0",
        "colab_type": "text"
      },
      "source": [
        "Memory View Class"
      ]
    },
    {
      "cell_type": "code",
      "metadata": {
        "id": "5JHzoWEF8Cjn",
        "colab_type": "code",
        "colab": {
          "base_uri": "https://localhost:8080/",
          "height": 35
        },
        "outputId": "c4c231d3-b367-4209-8a98-2ef5125e2506"
      },
      "source": [
        "numbers = array('h', [-2, -1, 0, 1, 2])\n",
        "memv = memoryview(numbers)\n",
        "print(len(memv))"
      ],
      "execution_count": 29,
      "outputs": [
        {
          "output_type": "stream",
          "text": [
            "5\n"
          ],
          "name": "stdout"
        }
      ]
    },
    {
      "cell_type": "code",
      "metadata": {
        "id": "CGKROzbV_Jpu",
        "colab_type": "code",
        "colab": {
          "base_uri": "https://localhost:8080/",
          "height": 35
        },
        "outputId": "17756701-2927-48be-b82e-1a5bd65ece9a"
      },
      "source": [
        "memv[0]"
      ],
      "execution_count": 30,
      "outputs": [
        {
          "output_type": "execute_result",
          "data": {
            "text/plain": [
              "-2"
            ]
          },
          "metadata": {
            "tags": []
          },
          "execution_count": 30
        }
      ]
    },
    {
      "cell_type": "code",
      "metadata": {
        "id": "qp6nwHAe_L2H",
        "colab_type": "code",
        "colab": {
          "base_uri": "https://localhost:8080/",
          "height": 35
        },
        "outputId": "7921f5a6-1dcb-47ee-c000-06cde80146cf"
      },
      "source": [
        "memv_oct = memv.cast('B')\n",
        "memv_oct.tolist()"
      ],
      "execution_count": 31,
      "outputs": [
        {
          "output_type": "execute_result",
          "data": {
            "text/plain": [
              "[254, 255, 255, 255, 0, 0, 1, 0, 2, 0]"
            ]
          },
          "metadata": {
            "tags": []
          },
          "execution_count": 31
        }
      ]
    },
    {
      "cell_type": "code",
      "metadata": {
        "id": "wwGL-3gB_Ubf",
        "colab_type": "code",
        "colab": {
          "base_uri": "https://localhost:8080/",
          "height": 35
        },
        "outputId": "b78ca0ce-a01b-4991-b839-12c07a23decd"
      },
      "source": [
        "memv_oct[5] = 4\n",
        "numbers"
      ],
      "execution_count": 32,
      "outputs": [
        {
          "output_type": "execute_result",
          "data": {
            "text/plain": [
              "array('h', [-2, -1, 1024, 1, 2])"
            ]
          },
          "metadata": {
            "tags": []
          },
          "execution_count": 32
        }
      ]
    },
    {
      "cell_type": "markdown",
      "metadata": {
        "id": "tILanf-k_hHk",
        "colab_type": "text"
      },
      "source": [
        "Deque and other queues"
      ]
    },
    {
      "cell_type": "code",
      "metadata": {
        "id": "5X5pzTV0AO8x",
        "colab_type": "code",
        "colab": {
          "base_uri": "https://localhost:8080/",
          "height": 128
        },
        "outputId": "d31035f9-3c71-4bac-f466-c0829012dd7c"
      },
      "source": [
        "from collections import deque\n",
        "dq = deque(range(10), maxlen = 10)\n",
        "print(dq)\n",
        "dq.rotate(3)\n",
        "print(dq)\n",
        "dq.rotate(-4)\n",
        "print(dq)\n",
        "dq.appendleft(-1)\n",
        "print(dq)\n",
        "dq.extend([11, 12, 13])\n",
        "print(dq)\n",
        "dq.extendleft([10, 20, 30, 40])\n",
        "print(dq)"
      ],
      "execution_count": 33,
      "outputs": [
        {
          "output_type": "stream",
          "text": [
            "deque([0, 1, 2, 3, 4, 5, 6, 7, 8, 9], maxlen=10)\n",
            "deque([7, 8, 9, 0, 1, 2, 3, 4, 5, 6], maxlen=10)\n",
            "deque([1, 2, 3, 4, 5, 6, 7, 8, 9, 0], maxlen=10)\n",
            "deque([-1, 1, 2, 3, 4, 5, 6, 7, 8, 9], maxlen=10)\n",
            "deque([3, 4, 5, 6, 7, 8, 9, 11, 12, 13], maxlen=10)\n",
            "deque([40, 30, 20, 10, 3, 4, 5, 6, 7, 8], maxlen=10)\n"
          ],
          "name": "stdout"
        }
      ]
    },
    {
      "cell_type": "code",
      "metadata": {
        "id": "sCkuev-RBNo3",
        "colab_type": "code",
        "colab": {}
      },
      "source": [
        "#explore heapq "
      ],
      "execution_count": null,
      "outputs": []
    }
  ]
}