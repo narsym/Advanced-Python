{
  "nbformat": 4,
  "nbformat_minor": 0,
  "metadata": {
    "colab": {
      "name": "Fluent python chap3.ipynb",
      "provenance": [],
      "collapsed_sections": [
        "e0oKdu5dT7fU"
      ],
      "authorship_tag": "ABX9TyO5lQaKFGrJUoQQ8zP8Z/P+",
      "include_colab_link": true
    },
    "kernelspec": {
      "name": "python3",
      "display_name": "Python 3"
    }
  },
  "cells": [
    {
      "cell_type": "markdown",
      "metadata": {
        "id": "view-in-github",
        "colab_type": "text"
      },
      "source": [
        "<a href=\"https://colab.research.google.com/github/narsym/Advanced-Python/blob/master/Fluent_python_chap3.ipynb\" target=\"_parent\"><img src=\"https://colab.research.google.com/assets/colab-badge.svg\" alt=\"Open In Colab\"/></a>"
      ]
    },
    {
      "cell_type": "markdown",
      "metadata": {
        "id": "e0oKdu5dT7fU",
        "colab_type": "text"
      },
      "source": [
        "#Dictionaries"
      ]
    },
    {
      "cell_type": "markdown",
      "metadata": {
        "id": "wcAs1Vg-UTDC",
        "colab_type": "text"
      },
      "source": [
        "Declaration methods"
      ]
    },
    {
      "cell_type": "code",
      "metadata": {
        "id": "u3KcWSarUJoB",
        "colab_type": "code",
        "colab": {
          "base_uri": "https://localhost:8080/",
          "height": 35
        },
        "outputId": "3b88e7f0-b90e-433a-cf90-41384ec3d962"
      },
      "source": [
        "a=dict(one=1,two=2,three=3)\n",
        "b={'one':1,'two':2,'three':3} \n",
        "c=dict(zip(['one','two','three'],[1,2,3]))\n",
        "d=dict([('two',2),('one',1),('three',3)])\n",
        "e=dict({'three':3,'one':1,'two':2})\n",
        "a == b == c == d == e"
      ],
      "execution_count": null,
      "outputs": [
        {
          "output_type": "execute_result",
          "data": {
            "text/plain": [
              "True"
            ]
          },
          "metadata": {
            "tags": []
          },
          "execution_count": 1
        }
      ]
    },
    {
      "cell_type": "markdown",
      "metadata": {
        "id": "qXmDk5SeURTR",
        "colab_type": "text"
      },
      "source": [
        "Dict comprehensions"
      ]
    },
    {
      "cell_type": "code",
      "metadata": {
        "id": "yKqK2rSxUXkk",
        "colab_type": "code",
        "colab": {}
      },
      "source": [
        "DIAL_CODES=[\n",
        "             (86,'China'),\n",
        "             (91,'India'),\n",
        "             (1,'United States'),\n",
        "             (62,'Indonesia'),\n",
        "             (55,'Brazil'),\n",
        "             (92,'Pakistan'),\n",
        "             (880,'Bangladesh'),\n",
        "             (234,'Nigeria'),\n",
        "             (7,'Russia'),\n",
        "             (81,'Japan')\n",
        "]\n",
        "\n",
        "country_code = {country : code for code, country in DIAL_CODES}\n",
        "code_country = {code : country.upper() for code, country in DIAL_CODES}"
      ],
      "execution_count": null,
      "outputs": []
    },
    {
      "cell_type": "code",
      "metadata": {
        "id": "VCeTlUWiVB0p",
        "colab_type": "code",
        "colab": {
          "base_uri": "https://localhost:8080/",
          "height": 74
        },
        "outputId": "b2d94a4c-f146-481a-e191-7e21ae3c2711"
      },
      "source": [
        "print(country_code, '\\n', code_country)"
      ],
      "execution_count": null,
      "outputs": [
        {
          "output_type": "stream",
          "text": [
            "{'China': 86, 'India': 91, 'United States': 1, 'Indonesia': 62, 'Brazil': 55, 'Pakistan': 92, 'Bangladesh': 880, 'Nigeria': 234, 'Russia': 7, 'Japan': 81} \n",
            " {86: 'CHINA', 91: 'INDIA', 1: 'UNITED STATES', 62: 'INDONESIA', 55: 'BRAZIL', 92: 'PAKISTAN', 880: 'BANGLADESH', 234: 'NIGERIA', 7: 'RUSSIA', 81: 'JAPAN'}\n"
          ],
          "name": "stdout"
        }
      ]
    },
    {
      "cell_type": "markdown",
      "metadata": {
        "id": "2M85GetoVLet",
        "colab_type": "text"
      },
      "source": [
        "Handling missing key values using setdefault method"
      ]
    },
    {
      "cell_type": "code",
      "metadata": {
        "id": "pWogS6XWOlB6",
        "colab_type": "code",
        "colab": {
          "base_uri": "https://localhost:8080/",
          "height": 35
        },
        "outputId": "bdf23f04-4609-44f8-d4b1-c552eb5f7e71"
      },
      "source": [
        "index = {}\n",
        "words = 'a b c d'.split()\n",
        "nums = [1, 2, 3, 4]\n",
        "\n",
        "for i, v in enumerate(words):\n",
        "  index.setdefault(v, []).append(nums[i])\n",
        "\n",
        "print(index)"
      ],
      "execution_count": null,
      "outputs": [
        {
          "output_type": "stream",
          "text": [
            "{'a': [1], 'b': [2], 'c': [3], 'd': [4]}\n"
          ],
          "name": "stdout"
        }
      ]
    },
    {
      "cell_type": "markdown",
      "metadata": {
        "id": "NbVa2VF6Oyug",
        "colab_type": "text"
      },
      "source": [
        "Mapping with flexible key lookup"
      ]
    },
    {
      "cell_type": "markdown",
      "metadata": {
        "id": "lMHsZmydPDpS",
        "colab_type": "text"
      },
      "source": [
        "Default dict to return any predefined thing to return when key not found"
      ]
    },
    {
      "cell_type": "code",
      "metadata": {
        "id": "vd-FO00-PU1j",
        "colab_type": "code",
        "colab": {
          "base_uri": "https://localhost:8080/",
          "height": 35
        },
        "outputId": "e6b339ef-38a1-4862-badb-be31b732ebd4"
      },
      "source": [
        "import collections\n",
        "index1 = collections.defaultdict(float)\n",
        "\n",
        "words = 'a c b d e f g h i a b c d e f h i j a b d'.split()\n",
        "\n",
        "for i, v in enumerate(words):\n",
        "  index1[v] = index1[v] + 1\n",
        "print(index1)"
      ],
      "execution_count": null,
      "outputs": [
        {
          "output_type": "stream",
          "text": [
            "defaultdict(<class 'float'>, {'a': 3.0, 'c': 2.0, 'b': 3.0, 'd': 3.0, 'e': 2.0, 'f': 2.0, 'g': 1.0, 'h': 2.0, 'i': 2.0, 'j': 1.0})\n"
          ],
          "name": "stdout"
        }
      ]
    },
    {
      "cell_type": "code",
      "metadata": {
        "id": "5Qb0RtQTP7O5",
        "colab_type": "code",
        "colab": {}
      },
      "source": [
        "#for more check __missing__ method"
      ],
      "execution_count": null,
      "outputs": []
    },
    {
      "cell_type": "markdown",
      "metadata": {
        "id": "OVo_T64mQ6_c",
        "colab_type": "text"
      },
      "source": [
        "Variations of dict"
      ]
    },
    {
      "cell_type": "markdown",
      "metadata": {
        "id": "mYgEqynUUeOq",
        "colab_type": "text"
      },
      "source": [
        "collections.Counter"
      ]
    },
    {
      "cell_type": "code",
      "metadata": {
        "id": "JZGS76kyUn3O",
        "colab_type": "code",
        "colab": {
          "base_uri": "https://localhost:8080/",
          "height": 35
        },
        "outputId": "bf53e975-baab-4c4e-eb7d-dd7e58c4c2ef"
      },
      "source": [
        "ct = collections.Counter('abracadabra')\n",
        "ct.update('aaaazzzz')\n",
        "print(ct)"
      ],
      "execution_count": null,
      "outputs": [
        {
          "output_type": "stream",
          "text": [
            "Counter({'a': 9, 'z': 4, 'b': 2, 'r': 2, 'c': 1, 'd': 1})\n"
          ],
          "name": "stdout"
        }
      ]
    },
    {
      "cell_type": "markdown",
      "metadata": {
        "id": "X10QkAQ1U9Dw",
        "colab_type": "text"
      },
      "source": [
        "Subclassing UserDict"
      ]
    },
    {
      "cell_type": "code",
      "metadata": {
        "id": "lyx9ahYNVsO-",
        "colab_type": "code",
        "colab": {}
      },
      "source": [
        "class StrDict(collections.UserDict):\n",
        "  def __missing__(self, key):\n",
        "    if isinstance(key, str):\n",
        "      return KeyError(key)\n",
        "    return self[str(key)]\n",
        "\n",
        "  def __contains__(self, key):\n",
        "    return str(key) in self.data\n",
        "\n",
        "  def __setitem__(self, key, item):\n",
        "    self.data[str(key)] = item"
      ],
      "execution_count": null,
      "outputs": []
    },
    {
      "cell_type": "code",
      "metadata": {
        "id": "-6Xe09Y3XWGU",
        "colab_type": "code",
        "colab": {
          "base_uri": "https://localhost:8080/",
          "height": 35
        },
        "outputId": "87bcc454-ec09-4f66-d626-7f8081cfd09d"
      },
      "source": [
        "d = StrDict([(1, 'one'), (2, 'two')])\n",
        "print(d[1], d[2], d[3])"
      ],
      "execution_count": null,
      "outputs": [
        {
          "output_type": "stream",
          "text": [
            "one two '3'\n"
          ],
          "name": "stdout"
        }
      ]
    },
    {
      "cell_type": "markdown",
      "metadata": {
        "id": "iF-4S5jFXeW7",
        "colab_type": "text"
      },
      "source": [
        "Immutable mappings"
      ]
    },
    {
      "cell_type": "code",
      "metadata": {
        "id": "yryD0aRJYWc8",
        "colab_type": "code",
        "colab": {
          "base_uri": "https://localhost:8080/",
          "height": 35
        },
        "outputId": "e0636c29-4374-4170-938d-96c6f0c18804"
      },
      "source": [
        "from types import MappingProxyType\n",
        "d = {1:'A'}\n",
        "d_proxy = MappingProxyType(d)\n",
        "print(d_proxy[1])"
      ],
      "execution_count": null,
      "outputs": [
        {
          "output_type": "stream",
          "text": [
            "A\n"
          ],
          "name": "stdout"
        }
      ]
    },
    {
      "cell_type": "code",
      "metadata": {
        "id": "-4vDyMYAYhAR",
        "colab_type": "code",
        "colab": {
          "base_uri": "https://localhost:8080/",
          "height": 173
        },
        "outputId": "d0fbd3a5-65f3-4c5a-c50e-3923f29c0d84"
      },
      "source": [
        "d_proxy[2] = 'x'"
      ],
      "execution_count": null,
      "outputs": [
        {
          "output_type": "error",
          "ename": "TypeError",
          "evalue": "ignored",
          "traceback": [
            "\u001b[0;31m---------------------------------------------------------------------------\u001b[0m",
            "\u001b[0;31mTypeError\u001b[0m                                 Traceback (most recent call last)",
            "\u001b[0;32m<ipython-input-33-bc17a9a62754>\u001b[0m in \u001b[0;36m<module>\u001b[0;34m()\u001b[0m\n\u001b[0;32m----> 1\u001b[0;31m \u001b[0md_proxy\u001b[0m\u001b[0;34m[\u001b[0m\u001b[0;36m2\u001b[0m\u001b[0;34m]\u001b[0m \u001b[0;34m=\u001b[0m \u001b[0;34m'x'\u001b[0m\u001b[0;34m\u001b[0m\u001b[0;34m\u001b[0m\u001b[0m\n\u001b[0m",
            "\u001b[0;31mTypeError\u001b[0m: 'mappingproxy' object does not support item assignment"
          ]
        }
      ]
    },
    {
      "cell_type": "markdown",
      "metadata": {
        "id": "hc64sYEoYmDb",
        "colab_type": "text"
      },
      "source": [
        "#Sets"
      ]
    },
    {
      "cell_type": "code",
      "metadata": {
        "id": "fs3ox49yY_gj",
        "colab_type": "code",
        "colab": {
          "base_uri": "https://localhost:8080/",
          "height": 35
        },
        "outputId": "11c42bbf-cfd2-4368-f4e4-7dfa0d5e93cd"
      },
      "source": [
        "s = {1}\n",
        "type(s)"
      ],
      "execution_count": null,
      "outputs": [
        {
          "output_type": "execute_result",
          "data": {
            "text/plain": [
              "set"
            ]
          },
          "metadata": {
            "tags": []
          },
          "execution_count": 34
        }
      ]
    },
    {
      "cell_type": "code",
      "metadata": {
        "id": "CSuK2XxsrHHz",
        "colab_type": "code",
        "colab": {
          "base_uri": "https://localhost:8080/",
          "height": 35
        },
        "outputId": "cc2da0d4-45fa-4ff3-a4e0-841e10fb178c"
      },
      "source": [
        "s.pop()"
      ],
      "execution_count": null,
      "outputs": [
        {
          "output_type": "execute_result",
          "data": {
            "text/plain": [
              "1"
            ]
          },
          "metadata": {
            "tags": []
          },
          "execution_count": 35
        }
      ]
    },
    {
      "cell_type": "code",
      "metadata": {
        "id": "CtZa7GserJbe",
        "colab_type": "code",
        "colab": {
          "base_uri": "https://localhost:8080/",
          "height": 35
        },
        "outputId": "af84c112-195d-426f-fa6c-8d767c9473fa"
      },
      "source": [
        "type(s)"
      ],
      "execution_count": null,
      "outputs": [
        {
          "output_type": "execute_result",
          "data": {
            "text/plain": [
              "set"
            ]
          },
          "metadata": {
            "tags": []
          },
          "execution_count": 36
        }
      ]
    },
    {
      "cell_type": "markdown",
      "metadata": {
        "id": "lbyuEA7PrKIQ",
        "colab_type": "text"
      },
      "source": [
        "__always build sets with {} notation except for empty set__"
      ]
    },
    {
      "cell_type": "markdown",
      "metadata": {
        "id": "he6fHADStiRC",
        "colab_type": "text"
      },
      "source": [
        "set comprehensions"
      ]
    },
    {
      "cell_type": "code",
      "metadata": {
        "id": "8KY9n6DRtujB",
        "colab_type": "code",
        "colab": {
          "base_uri": "https://localhost:8080/",
          "height": 35
        },
        "outputId": "21b09c75-b1bf-4f68-e19d-4fda6ce037ed"
      },
      "source": [
        "from unicodedata import name\n",
        "s = {chr(i) for i in range(32, 256) if 'SIGN' in name(chr(i), '')}\n",
        "print(s)"
      ],
      "execution_count": null,
      "outputs": [
        {
          "output_type": "stream",
          "text": [
            "{'%', '°', 'µ', '+', '®', '©', '÷', '<', '$', '¶', '>', '×', '#', '¤', '=', '¥', '§', '±', '¬', '£', '¢'}\n"
          ],
          "name": "stdout"
        }
      ]
    },
    {
      "cell_type": "code",
      "metadata": {
        "id": "tcwh2xLUt-hi",
        "colab_type": "code",
        "colab": {
          "base_uri": "https://localhost:8080/",
          "height": 35
        },
        "outputId": "c4d83b92-7c1c-4832-a2f5-3f43be6f4ed3"
      },
      "source": [
        "hash('b')"
      ],
      "execution_count": null,
      "outputs": [
        {
          "output_type": "execute_result",
          "data": {
            "text/plain": [
              "8809938759333879546"
            ]
          },
          "metadata": {
            "tags": []
          },
          "execution_count": 50
        }
      ]
    }
  ]
}