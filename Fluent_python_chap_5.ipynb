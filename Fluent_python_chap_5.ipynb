{
  "nbformat": 4,
  "nbformat_minor": 0,
  "metadata": {
    "colab": {
      "name": "Fluent python chap 5.ipynb",
      "provenance": [],
      "authorship_tag": "ABX9TyOotjChurLm3V+hXEq8FLaF",
      "include_colab_link": true
    },
    "kernelspec": {
      "name": "python3",
      "display_name": "Python 3"
    }
  },
  "cells": [
    {
      "cell_type": "markdown",
      "metadata": {
        "id": "view-in-github",
        "colab_type": "text"
      },
      "source": [
        "<a href=\"https://colab.research.google.com/github/narsym/Advanced-Python/blob/master/Fluent_python_chap_5.ipynb\" target=\"_parent\"><img src=\"https://colab.research.google.com/assets/colab-badge.svg\" alt=\"Open In Colab\"/></a>"
      ]
    },
    {
      "cell_type": "markdown",
      "metadata": {
        "id": "giCJDMmdZPGO",
        "colab_type": "text"
      },
      "source": [
        "#Functions as first class objects"
      ]
    },
    {
      "cell_type": "code",
      "metadata": {
        "id": "AwR1PZVQaFG6",
        "colab_type": "code",
        "colab": {}
      },
      "source": [
        "def factorial(n):\n",
        "  '''returns n'''\n",
        "  return 1 if n < 2 else n * factorial(n - 1)"
      ],
      "execution_count": 1,
      "outputs": []
    },
    {
      "cell_type": "code",
      "metadata": {
        "id": "U6RhYAGPaR4y",
        "colab_type": "code",
        "colab": {
          "base_uri": "https://localhost:8080/",
          "height": 35
        },
        "outputId": "7852f689-d5bf-419c-ad20-f233183317f9"
      },
      "source": [
        "factorial(10)"
      ],
      "execution_count": 2,
      "outputs": [
        {
          "output_type": "execute_result",
          "data": {
            "text/plain": [
              "3628800"
            ]
          },
          "metadata": {
            "tags": []
          },
          "execution_count": 2
        }
      ]
    },
    {
      "cell_type": "code",
      "metadata": {
        "id": "Ho4s51aSaVDF",
        "colab_type": "code",
        "colab": {
          "base_uri": "https://localhost:8080/",
          "height": 36
        },
        "outputId": "ce7fb543-7e4c-4471-d515-7ddc822917af"
      },
      "source": [
        "factorial.__doc__"
      ],
      "execution_count": 3,
      "outputs": [
        {
          "output_type": "execute_result",
          "data": {
            "application/vnd.google.colaboratory.intrinsic+json": {
              "type": "string"
            },
            "text/plain": [
              "'returns n'"
            ]
          },
          "metadata": {
            "tags": []
          },
          "execution_count": 3
        }
      ]
    },
    {
      "cell_type": "code",
      "metadata": {
        "id": "GGnK4DPSaYDF",
        "colab_type": "code",
        "colab": {
          "base_uri": "https://localhost:8080/",
          "height": 35
        },
        "outputId": "099ceeeb-3975-4cb7-e7f9-cf50537ac50a"
      },
      "source": [
        "type(factorial)"
      ],
      "execution_count": 4,
      "outputs": [
        {
          "output_type": "execute_result",
          "data": {
            "text/plain": [
              "function"
            ]
          },
          "metadata": {
            "tags": []
          },
          "execution_count": 4
        }
      ]
    },
    {
      "cell_type": "code",
      "metadata": {
        "id": "DUbo83PiabJh",
        "colab_type": "code",
        "colab": {
          "base_uri": "https://localhost:8080/",
          "height": 109
        },
        "outputId": "711fa3cd-ad2c-4de3-c13d-b8b012fce3b6"
      },
      "source": [
        "help(factorial)"
      ],
      "execution_count": 5,
      "outputs": [
        {
          "output_type": "stream",
          "text": [
            "Help on function factorial in module __main__:\n",
            "\n",
            "factorial(n)\n",
            "    returns n\n",
            "\n"
          ],
          "name": "stdout"
        }
      ]
    },
    {
      "cell_type": "markdown",
      "metadata": {
        "id": "Mim9klVualop",
        "colab_type": "text"
      },
      "source": [
        "Assign function to a particular variable"
      ]
    },
    {
      "cell_type": "code",
      "metadata": {
        "id": "lljTprEOa1KE",
        "colab_type": "code",
        "colab": {
          "base_uri": "https://localhost:8080/",
          "height": 54
        },
        "outputId": "74e1668f-97f2-45af-c089-102282f56a42"
      },
      "source": [
        "fact = factorial\n",
        "print(fact(10))\n",
        "list(map(fact, range(10)))"
      ],
      "execution_count": 6,
      "outputs": [
        {
          "output_type": "stream",
          "text": [
            "3628800\n"
          ],
          "name": "stdout"
        },
        {
          "output_type": "execute_result",
          "data": {
            "text/plain": [
              "[1, 1, 2, 6, 24, 120, 720, 5040, 40320, 362880]"
            ]
          },
          "metadata": {
            "tags": []
          },
          "execution_count": 6
        }
      ]
    },
    {
      "cell_type": "markdown",
      "metadata": {
        "id": "JsGO4cRJa6t5",
        "colab_type": "text"
      },
      "source": [
        "Higher order functions (take function as an argument and return function)"
      ]
    },
    {
      "cell_type": "code",
      "metadata": {
        "id": "3Kk-Z0DAbZhL",
        "colab_type": "code",
        "colab": {
          "base_uri": "https://localhost:8080/",
          "height": 35
        },
        "outputId": "0a0db539-b05e-4b69-9dca-11ea681de5ec"
      },
      "source": [
        "fruits = 'strawberry apple fig banana orange mango'.split()\n",
        "sorted(fruits, key = len) # sorted higher order function"
      ],
      "execution_count": 7,
      "outputs": [
        {
          "output_type": "execute_result",
          "data": {
            "text/plain": [
              "['fig', 'apple', 'mango', 'banana', 'orange', 'strawberry']"
            ]
          },
          "metadata": {
            "tags": []
          },
          "execution_count": 7
        }
      ]
    },
    {
      "cell_type": "code",
      "metadata": {
        "id": "kRSdwGnwblyn",
        "colab_type": "code",
        "colab": {
          "base_uri": "https://localhost:8080/",
          "height": 35
        },
        "outputId": "3cea519e-33d1-4b40-e924-4c670d6326fe"
      },
      "source": [
        "def reverse(word):\n",
        "  return word[::-1]\n",
        "\n",
        "sorted(fruits, key = reverse)"
      ],
      "execution_count": 8,
      "outputs": [
        {
          "output_type": "execute_result",
          "data": {
            "text/plain": [
              "['banana', 'orange', 'apple', 'fig', 'mango', 'strawberry']"
            ]
          },
          "metadata": {
            "tags": []
          },
          "execution_count": 8
        }
      ]
    },
    {
      "cell_type": "markdown",
      "metadata": {
        "id": "gkgsGzjGcFaa",
        "colab_type": "text"
      },
      "source": [
        "some higher order functions are map, filter, reduce"
      ]
    },
    {
      "cell_type": "markdown",
      "metadata": {
        "id": "T5Uk0zH1cUrG",
        "colab_type": "text"
      },
      "source": [
        "__Modern replacements for these higher order functions are:__\n",
        "\n",
        "_list comprehensions and generator expressions_"
      ]
    },
    {
      "cell_type": "code",
      "metadata": {
        "id": "2KGGNO6ccaZ2",
        "colab_type": "code",
        "colab": {
          "base_uri": "https://localhost:8080/",
          "height": 91
        },
        "outputId": "37d4bc41-3bd2-41f2-f3b8-f338fc5e877a"
      },
      "source": [
        "print(list(map(fact, range(10))))#map\n",
        "print([fact(n) for n in range(10)])#listcomp\n",
        "\n",
        "print(list(map(fact, filter(lambda n: n % 2, range(10)))))#map, filter and lambda\n",
        "print([fact(n) for n in range(10) if n % 2])#listcomp,  same thing can done independently in genexps"
      ],
      "execution_count": 11,
      "outputs": [
        {
          "output_type": "stream",
          "text": [
            "[1, 1, 2, 6, 24, 120, 720, 5040, 40320, 362880]\n",
            "[1, 1, 2, 6, 24, 120, 720, 5040, 40320, 362880]\n",
            "[1, 6, 120, 5040, 362880]\n",
            "[1, 6, 120, 5040, 362880]\n"
          ],
          "name": "stdout"
        }
      ]
    },
    {
      "cell_type": "markdown",
      "metadata": {
        "id": "CMvjyhnedUki",
        "colab_type": "text"
      },
      "source": [
        "Anonymous functions"
      ]
    },
    {
      "cell_type": "code",
      "metadata": {
        "id": "WV5ecFWqeKdA",
        "colab_type": "code",
        "colab": {
          "base_uri": "https://localhost:8080/",
          "height": 35
        },
        "outputId": "38b847b5-8831-4b73-f80d-6dbb0fca2cb7"
      },
      "source": [
        "sorted(fruits, key = lambda word: word[::-1]) #lambda reverse a string and return it"
      ],
      "execution_count": 13,
      "outputs": [
        {
          "output_type": "execute_result",
          "data": {
            "text/plain": [
              "['banana', 'orange', 'apple', 'fig', 'mango', 'strawberry']"
            ]
          },
          "metadata": {
            "tags": []
          },
          "execution_count": 13
        }
      ]
    },
    {
      "cell_type": "markdown",
      "metadata": {
        "id": "uyUfuWNOeZFu",
        "colab_type": "text"
      },
      "source": [
        "UserDefined callable functions"
      ]
    },
    {
      "cell_type": "code",
      "metadata": {
        "id": "MiIqf8xJgPju",
        "colab_type": "code",
        "colab": {}
      },
      "source": [
        "import random\n",
        "class BingoCage:\n",
        "  def __init__(self, items):\n",
        "    self._items = list(items)\n",
        "    random.shuffle(self._items)\n",
        "\n",
        "  def pick(self):\n",
        "    try:\n",
        "      return self._items.pop()\n",
        "    except IndexError:\n",
        "      raise LookupError('pick from empty bingo cage')\n",
        "\n",
        "  def __call__(self):\n",
        "    return self.pick()"
      ],
      "execution_count": 18,
      "outputs": []
    },
    {
      "cell_type": "code",
      "metadata": {
        "id": "mdEhBey7g0OO",
        "colab_type": "code",
        "colab": {
          "base_uri": "https://localhost:8080/",
          "height": 54
        },
        "outputId": "16bad27f-062f-4f3f-fea5-16cba1c94e80"
      },
      "source": [
        "bingo = BingoCage(range(10))\n",
        "print(bingo.pick()) #calling pick method\n",
        "print(bingo())    #shortcut to bingo.pick() method"
      ],
      "execution_count": 19,
      "outputs": [
        {
          "output_type": "stream",
          "text": [
            "8\n",
            "5\n"
          ],
          "name": "stdout"
        }
      ]
    },
    {
      "cell_type": "code",
      "metadata": {
        "id": "PqixIViHhK3N",
        "colab_type": "code",
        "colab": {}
      },
      "source": [
        "def tag(name, *content, cls = None, **attrs):\n",
        "  \"\"\"Generate one or more HTML tags\"\"\"\n",
        "  if cls is not None:\n",
        "    attrs['class'] = cls\n",
        "  if attrs:\n",
        "    attr_str = ''.join(' %s=\"%s\"' % (attr, value) for attr, value in sorted(attrs.items()))\n",
        "  else:\n",
        "      attr_str = ''\n",
        "  if content:\n",
        "    return '\\n'.join('<%s%s>%s</%s>' % (name, attr_str, c, name) for c in content)\n",
        "  else:\n",
        "    return'<%s%s />' % (name, attr_str)"
      ],
      "execution_count": 21,
      "outputs": []
    },
    {
      "cell_type": "code",
      "metadata": {
        "id": "ex9wkCg-j-qy",
        "colab_type": "code",
        "colab": {
          "base_uri": "https://localhost:8080/",
          "height": 36
        },
        "outputId": "c955ff63-3462-4e40-fca6-3d7fc2c48ee8"
      },
      "source": [
        "tag('br')"
      ],
      "execution_count": 22,
      "outputs": [
        {
          "output_type": "execute_result",
          "data": {
            "application/vnd.google.colaboratory.intrinsic+json": {
              "type": "string"
            },
            "text/plain": [
              "'<br />'"
            ]
          },
          "metadata": {
            "tags": []
          },
          "execution_count": 22
        }
      ]
    },
    {
      "cell_type": "code",
      "metadata": {
        "id": "Gb4i7eG6kDLc",
        "colab_type": "code",
        "colab": {
          "base_uri": "https://localhost:8080/",
          "height": 36
        },
        "outputId": "4a00a316-2676-40f9-b8fb-1cfdba7d7ce5"
      },
      "source": [
        "tag('p', 'hello')"
      ],
      "execution_count": 23,
      "outputs": [
        {
          "output_type": "execute_result",
          "data": {
            "application/vnd.google.colaboratory.intrinsic+json": {
              "type": "string"
            },
            "text/plain": [
              "'<p>hello</p>'"
            ]
          },
          "metadata": {
            "tags": []
          },
          "execution_count": 23
        }
      ]
    },
    {
      "cell_type": "code",
      "metadata": {
        "id": "wC_oIdKckHQB",
        "colab_type": "code",
        "colab": {
          "base_uri": "https://localhost:8080/",
          "height": 54
        },
        "outputId": "e246e008-908a-4a3f-ee48-09273e9154f7"
      },
      "source": [
        "print(tag('p', 'hello', 'world', cls = 'sidebar'))"
      ],
      "execution_count": 24,
      "outputs": [
        {
          "output_type": "stream",
          "text": [
            "<p class=\"sidebar\">hello</p>\n",
            "<p class=\"sidebar\">world</p>\n"
          ],
          "name": "stdout"
        }
      ]
    },
    {
      "cell_type": "code",
      "metadata": {
        "id": "nekwzk17kOIK",
        "colab_type": "code",
        "colab": {
          "base_uri": "https://localhost:8080/",
          "height": 36
        },
        "outputId": "4827a7c9-91a8-4164-c291-be83c6a7841e"
      },
      "source": [
        "tag(content = 'testing', name = 'img')"
      ],
      "execution_count": 25,
      "outputs": [
        {
          "output_type": "execute_result",
          "data": {
            "application/vnd.google.colaboratory.intrinsic+json": {
              "type": "string"
            },
            "text/plain": [
              "'<img content=\"testing\" />'"
            ]
          },
          "metadata": {
            "tags": []
          },
          "execution_count": 25
        }
      ]
    },
    {
      "cell_type": "code",
      "metadata": {
        "id": "XZ11fv-PkV0A",
        "colab_type": "code",
        "colab": {
          "base_uri": "https://localhost:8080/",
          "height": 36
        },
        "outputId": "7c0b812d-bf81-4de2-a7a0-ac2571e3b2a7"
      },
      "source": [
        "my_tag={'name':'img','title':'Sunset Boulevard','src':'sunset.jpg','cls':'framed'}\n",
        "tag(**my_tag)"
      ],
      "execution_count": 27,
      "outputs": [
        {
          "output_type": "execute_result",
          "data": {
            "application/vnd.google.colaboratory.intrinsic+json": {
              "type": "string"
            },
            "text/plain": [
              "'<img class=\"framed\" src=\"sunset.jpg\" title=\"Sunset Boulevard\" />'"
            ]
          },
          "metadata": {
            "tags": []
          },
          "execution_count": 27
        }
      ]
    },
    {
      "cell_type": "markdown",
      "metadata": {
        "id": "qaExh1pFkjAx",
        "colab_type": "text"
      },
      "source": [
        "Packages for functional programming"
      ]
    },
    {
      "cell_type": "markdown",
      "metadata": {
        "id": "kP2bc24XnfyN",
        "colab_type": "text"
      },
      "source": [
        "the operator module"
      ]
    },
    {
      "cell_type": "code",
      "metadata": {
        "id": "DeyOxklinhSu",
        "colab_type": "code",
        "colab": {
          "base_uri": "https://localhost:8080/",
          "height": 35
        },
        "outputId": "807d2039-c674-41ea-ef00-c838d34917bf"
      },
      "source": [
        "from functools import reduce\n",
        "from operator import mul\n",
        "\n",
        "def fact(n): # using lambda\n",
        "  return reduce(lambda a, b: a * b, range(1, 10))\n",
        "fact(10)"
      ],
      "execution_count": 30,
      "outputs": [
        {
          "output_type": "execute_result",
          "data": {
            "text/plain": [
              "362880"
            ]
          },
          "metadata": {
            "tags": []
          },
          "execution_count": 30
        }
      ]
    },
    {
      "cell_type": "code",
      "metadata": {
        "id": "zO2xJOYHn2f9",
        "colab_type": "code",
        "colab": {
          "base_uri": "https://localhost:8080/",
          "height": 35
        },
        "outputId": "efc1dbf5-94bc-4579-a412-55d768c69fbe"
      },
      "source": [
        "def fact(n): #using operator's in built methods\n",
        "  return reduce(mul, range(1, 10))\n",
        "fact(10)"
      ],
      "execution_count": 31,
      "outputs": [
        {
          "output_type": "execute_result",
          "data": {
            "text/plain": [
              "362880"
            ]
          },
          "metadata": {
            "tags": []
          },
          "execution_count": 31
        }
      ]
    },
    {
      "cell_type": "markdown",
      "metadata": {
        "id": "cA5aX8Pvn_zY",
        "colab_type": "text"
      },
      "source": [
        "**itemgetter** gets the element present at that position from any class that implements 'getitem' special method"
      ]
    },
    {
      "cell_type": "code",
      "metadata": {
        "id": "OYjYCjvfoqZY",
        "colab_type": "code",
        "colab": {}
      },
      "source": [
        "\n",
        "metro_data = [\n",
        "             ('Tokyo','JP',36.933,(35.689722,139.691667)),\n",
        "             ('Delhi NCR','IN',21.935,(28.613889,77.208889)),\n",
        "             ('Mexico City','MX',20.142,(19.433333,-99.133333)),\n",
        "             ('New York-Newark','US',20.104,(40.808611,-74.020386)),\n",
        "             ('Sao Paulo','BR',19.649,(-23.547778,-46.635833))\n",
        "]"
      ],
      "execution_count": 32,
      "outputs": []
    },
    {
      "cell_type": "code",
      "metadata": {
        "id": "xMKA9AyepEJL",
        "colab_type": "code",
        "colab": {
          "base_uri": "https://localhost:8080/",
          "height": 109
        },
        "outputId": "acc22382-0a1d-41df-a075-f4fde4343e02"
      },
      "source": [
        "from operator import itemgetter\n",
        "for city in sorted(metro_data, key = itemgetter(1)):\n",
        "  print(city)"
      ],
      "execution_count": 33,
      "outputs": [
        {
          "output_type": "stream",
          "text": [
            "('Sao Paulo', 'BR', 19.649, (-23.547778, -46.635833))\n",
            "('Delhi NCR', 'IN', 21.935, (28.613889, 77.208889))\n",
            "('Tokyo', 'JP', 36.933, (35.689722, 139.691667))\n",
            "('Mexico City', 'MX', 20.142, (19.433333, -99.133333))\n",
            "('New York-Newark', 'US', 20.104, (40.808611, -74.020386))\n"
          ],
          "name": "stdout"
        }
      ]
    },
    {
      "cell_type": "markdown",
      "metadata": {
        "id": "VTnQAKeopM0U",
        "colab_type": "text"
      },
      "source": [
        "If you pass multiple index arguments to itemgetter, the function it builds will return tuples with the extracted values:"
      ]
    },
    {
      "cell_type": "code",
      "metadata": {
        "id": "oyHsCEwWpl2-",
        "colab_type": "code",
        "colab": {
          "base_uri": "https://localhost:8080/",
          "height": 109
        },
        "outputId": "a358f39d-4e37-4c0f-f9e7-7d95cc0c46c5"
      },
      "source": [
        "cc_name = itemgetter(1, 0)\n",
        "for city in metro_data:\n",
        "  print(cc_name(city))"
      ],
      "execution_count": 37,
      "outputs": [
        {
          "output_type": "stream",
          "text": [
            "('JP', 'Tokyo')\n",
            "('IN', 'Delhi NCR')\n",
            "('MX', 'Mexico City')\n",
            "('US', 'New York-Newark')\n",
            "('BR', 'Sao Paulo')\n"
          ],
          "name": "stdout"
        }
      ]
    },
    {
      "cell_type": "code",
      "metadata": {
        "id": "Kim40CybptNg",
        "colab_type": "code",
        "colab": {
          "base_uri": "https://localhost:8080/",
          "height": 35
        },
        "outputId": "94d5a27d-9048-471e-bcb6-4c8a56d209f5"
      },
      "source": [
        "from collections import namedtuple\n",
        "\n",
        "LatLong = namedtuple('LatLong', 'lat long')\n",
        "Metropolis = namedtuple('Metropolis', 'name cc pop coord')\n",
        "\n",
        "metro_areas = [Metropolis(name, cc, pop, LatLong(lat, long)) for name, cc, pop, (lat, long) in metro_data]\n",
        "print(metro_areas[0].coord.lat)"
      ],
      "execution_count": 38,
      "outputs": [
        {
          "output_type": "stream",
          "text": [
            "35.689722\n"
          ],
          "name": "stdout"
        }
      ]
    },
    {
      "cell_type": "code",
      "metadata": {
        "id": "g0G8FYl5rhtO",
        "colab_type": "code",
        "colab": {
          "base_uri": "https://localhost:8080/",
          "height": 35
        },
        "outputId": "d27ef67d-da54-424e-e650-ddad79b27513"
      },
      "source": [
        "metro_areas[0]"
      ],
      "execution_count": 39,
      "outputs": [
        {
          "output_type": "execute_result",
          "data": {
            "text/plain": [
              "Metropolis(name='Tokyo', cc='JP', pop=36.933, coord=LatLong(lat=35.689722, long=139.691667))"
            ]
          },
          "metadata": {
            "tags": []
          },
          "execution_count": 39
        }
      ]
    },
    {
      "cell_type": "code",
      "metadata": {
        "id": "vG_oDccyrLsJ",
        "colab_type": "code",
        "colab": {
          "base_uri": "https://localhost:8080/",
          "height": 109
        },
        "outputId": "6419eb9f-0430-4682-fd07-450cc34b0abe"
      },
      "source": [
        "from operator import attrgetter\n",
        "name_lat = attrgetter('name', 'coord.lat')\n",
        "for city in sorted(metro_areas, key = attrgetter('coord.lat')):\n",
        "  print(name_lat(city))"
      ],
      "execution_count": 40,
      "outputs": [
        {
          "output_type": "stream",
          "text": [
            "('Sao Paulo', -23.547778)\n",
            "('Mexico City', 19.433333)\n",
            "('Delhi NCR', 28.613889)\n",
            "('Tokyo', 35.689722)\n",
            "('New York-Newark', 40.808611)\n"
          ],
          "name": "stdout"
        }
      ]
    },
    {
      "cell_type": "markdown",
      "metadata": {
        "id": "_y8P7MEusCOx",
        "colab_type": "text"
      },
      "source": [
        "functions in operator"
      ]
    },
    {
      "cell_type": "code",
      "metadata": {
        "id": "kmkZ-HzCrw-P",
        "colab_type": "code",
        "colab": {
          "base_uri": "https://localhost:8080/",
          "height": 1000
        },
        "outputId": "fbc741ac-e839-4e11-ab07-6f1df8186294"
      },
      "source": [
        "import operator\n",
        "[name for name in dir(operator) if not name.startswith('_')]"
      ],
      "execution_count": 43,
      "outputs": [
        {
          "output_type": "execute_result",
          "data": {
            "text/plain": [
              "['abs',\n",
              " 'add',\n",
              " 'and_',\n",
              " 'attrgetter',\n",
              " 'concat',\n",
              " 'contains',\n",
              " 'countOf',\n",
              " 'delitem',\n",
              " 'eq',\n",
              " 'floordiv',\n",
              " 'ge',\n",
              " 'getitem',\n",
              " 'gt',\n",
              " 'iadd',\n",
              " 'iand',\n",
              " 'iconcat',\n",
              " 'ifloordiv',\n",
              " 'ilshift',\n",
              " 'imatmul',\n",
              " 'imod',\n",
              " 'imul',\n",
              " 'index',\n",
              " 'indexOf',\n",
              " 'inv',\n",
              " 'invert',\n",
              " 'ior',\n",
              " 'ipow',\n",
              " 'irshift',\n",
              " 'is_',\n",
              " 'is_not',\n",
              " 'isub',\n",
              " 'itemgetter',\n",
              " 'itruediv',\n",
              " 'ixor',\n",
              " 'le',\n",
              " 'length_hint',\n",
              " 'lshift',\n",
              " 'lt',\n",
              " 'matmul',\n",
              " 'methodcaller',\n",
              " 'mod',\n",
              " 'mul',\n",
              " 'ne',\n",
              " 'neg',\n",
              " 'not_',\n",
              " 'or_',\n",
              " 'pos',\n",
              " 'pow',\n",
              " 'rshift',\n",
              " 'setitem',\n",
              " 'sub',\n",
              " 'truediv',\n",
              " 'truth',\n",
              " 'xor']"
            ]
          },
          "metadata": {
            "tags": []
          },
          "execution_count": 43
        }
      ]
    },
    {
      "cell_type": "markdown",
      "metadata": {
        "id": "ufaMNlZ_sFDS",
        "colab_type": "text"
      },
      "source": [
        "methodcaller"
      ]
    },
    {
      "cell_type": "code",
      "metadata": {
        "id": "tiQHgN-esmIt",
        "colab_type": "code",
        "colab": {
          "base_uri": "https://localhost:8080/",
          "height": 54
        },
        "outputId": "8042e176-1a06-4581-8781-a1882c216da9"
      },
      "source": [
        "from operator import methodcaller\n",
        "s = 'the time has come'\n",
        "upcase = methodcaller('upper')\n",
        "print(upcase(s))\n",
        "hibernate = methodcaller('replace', ' ', '-') #freeze some arguments, here in replace ' ' and '-'\n",
        "print(hibernate(s))"
      ],
      "execution_count": 44,
      "outputs": [
        {
          "output_type": "stream",
          "text": [
            "THE TIME HAS COME\n",
            "the-time-has-come\n"
          ],
          "name": "stdout"
        }
      ]
    },
    {
      "cell_type": "markdown",
      "metadata": {
        "id": "4pLj9nM1s1Sh",
        "colab_type": "text"
      },
      "source": [
        "Freezing Arguments with functools.partial"
      ]
    },
    {
      "cell_type": "code",
      "metadata": {
        "id": "cWEJUbBotqZm",
        "colab_type": "code",
        "colab": {
          "base_uri": "https://localhost:8080/",
          "height": 35
        },
        "outputId": "36d48d4f-9590-4727-e39f-9c61f27321bc"
      },
      "source": [
        "from functools import partial\n",
        "triple = partial(mul, 3)\n",
        "triple(7)"
      ],
      "execution_count": 45,
      "outputs": [
        {
          "output_type": "execute_result",
          "data": {
            "text/plain": [
              "21"
            ]
          },
          "metadata": {
            "tags": []
          },
          "execution_count": 45
        }
      ]
    },
    {
      "cell_type": "code",
      "metadata": {
        "id": "sWTlHTHAt0VX",
        "colab_type": "code",
        "colab": {
          "base_uri": "https://localhost:8080/",
          "height": 35
        },
        "outputId": "45e1c092-fbff-4863-e9cb-e37c1e668232"
      },
      "source": [
        "list(map(triple, range(1, 10)))"
      ],
      "execution_count": 46,
      "outputs": [
        {
          "output_type": "execute_result",
          "data": {
            "text/plain": [
              "[3, 6, 9, 12, 15, 18, 21, 24, 27]"
            ]
          },
          "metadata": {
            "tags": []
          },
          "execution_count": 46
        }
      ]
    },
    {
      "cell_type": "code",
      "metadata": {
        "id": "8W41b3LyuK-a",
        "colab_type": "code",
        "colab": {
          "base_uri": "https://localhost:8080/",
          "height": 72
        },
        "outputId": "00c03074-8955-4206-9ba6-ffd9bb25417e"
      },
      "source": [
        "import unicodedata, functools\n",
        "nfc = functools.partial(unicodedata.normalize, 'NFC')\n",
        "s1 = 'café'\n",
        "s2 = 'cafe\\u0301'\n",
        "print(s1, s2)\n",
        "print(s1 == s2)\n",
        "print(nfc(s1) == nfc(s2))"
      ],
      "execution_count": 57,
      "outputs": [
        {
          "output_type": "stream",
          "text": [
            "café café\n",
            "False\n",
            "True\n"
          ],
          "name": "stdout"
        }
      ]
    },
    {
      "cell_type": "code",
      "metadata": {
        "id": "1ObGaqwVxBWv",
        "colab_type": "code",
        "colab": {}
      },
      "source": [
        ""
      ],
      "execution_count": null,
      "outputs": []
    }
  ]
}